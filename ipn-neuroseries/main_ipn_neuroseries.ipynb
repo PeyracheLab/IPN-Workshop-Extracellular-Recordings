{
 "cells": [
  {
   "cell_type": "markdown",
   "id": "2850c17e",
   "metadata": {},
   "source": [
    "# IPN workshop on extracellular recordings\n",
    "\n",
    "## Neuroseries and tuning curves\n",
    "\n",
    "The goal of this jupyter notebook is to load the manually curated data after processing with kilosort."
   ]
  },
  {
   "cell_type": "code",
   "execution_count": null,
   "id": "c14cad56",
   "metadata": {},
   "outputs": [],
   "source": [
    "import numpy as np\n",
    "import pandas as pd\n",
    "import neuroseries as nts\n",
    "from pylab import *\n",
    "from wrappers import *\n",
    "from functions import *"
   ]
  },
  {
   "cell_type": "markdown",
   "id": "96a80313",
   "metadata": {},
   "source": [
    "path to the data and structure of the recording"
   ]
  },
  {
   "cell_type": "code",
   "execution_count": null,
   "id": "0177f5f4",
   "metadata": {},
   "outputs": [],
   "source": [
    "data_directory = '/home/ipn/A2929-200711'\n",
    "\n",
    "episodes = ['sleep', 'wake']\n",
    "events = ['1']"
   ]
  },
  {
   "cell_type": "markdown",
   "id": "b22e6a93",
   "metadata": {},
   "source": [
    "load the spikes"
   ]
  },
  {
   "cell_type": "code",
   "execution_count": null,
   "id": "0ec53aef",
   "metadata": {},
   "outputs": [],
   "source": [
    "spikes, shank = loadSpikeData(data_directory)\n",
    "print(spikes.keys())"
   ]
  },
  {
   "cell_type": "markdown",
   "id": "239b1429",
   "metadata": {},
   "source": [
    "Load position"
   ]
  },
  {
   "cell_type": "code",
   "execution_count": null,
   "id": "e498032d",
   "metadata": {},
   "outputs": [],
   "source": [
    "position = loadPosition(data_directory, events, episodes)"
   ]
  },
  {
   "cell_type": "markdown",
   "id": "0c9b2df9",
   "metadata": {},
   "source": [
    "Load epochs time"
   ]
  },
  {
   "cell_type": "code",
   "execution_count": null,
   "id": "7a79e2a5",
   "metadata": {},
   "outputs": [],
   "source": [
    "wake_ep = loadEpoch(data_directory, 'wake', episodes)\n",
    "sleep_ep = loadEpoch(data_directory, 'sleep')\n",
    "\n",
    "print('Wake\\n', wake_ep.as_units('s'))\n",
    "print('Sleep\\n', sleep_ep.as_units('s'))"
   ]
  },
  {
   "cell_type": "markdown",
   "id": "34286e2a",
   "metadata": {},
   "source": [
    "Compute angular tuning curves"
   ]
  },
  {
   "cell_type": "code",
   "execution_count": null,
   "id": "bdb1d7ab",
   "metadata": {},
   "outputs": [],
   "source": [
    "tuning_curves = computeAngularTuningCurves(spikes, position['ry'], wake_ep, 60)\n",
    "tuning_curves = smoothAngularTuningCurves(tuning_curves, 10, 2)"
   ]
  },
  {
   "cell_type": "markdown",
   "id": "3481af67",
   "metadata": {},
   "source": [
    "Plot the tuning curves"
   ]
  },
  {
   "cell_type": "code",
   "execution_count": null,
   "id": "d13dd490",
   "metadata": {
    "scrolled": true
   },
   "outputs": [],
   "source": [
    "figure(figsize = (15, 20))\n",
    "for i, n in enumerate(tuning_curves.columns):\n",
    "    subplot(10,10,i+1, projection = 'polar')\n",
    "    plot(tuning_curves[n])\n",
    "    xticks([])\n",
    "show()\n"
   ]
  },
  {
   "cell_type": "markdown",
   "id": "448b6558",
   "metadata": {},
   "source": [
    "Which neurons belongs to which shank"
   ]
  },
  {
   "cell_type": "code",
   "execution_count": null,
   "id": "d28111c4",
   "metadata": {},
   "outputs": [],
   "source": [
    "print(shank)\n",
    "print('Thalamic neurons : ', np.where(shank==1)[0])\n",
    "print('CA1 neurons :  ', np.where(shank==2)[0])"
   ]
  },
  {
   "cell_type": "markdown",
   "id": "5be6e8fc",
   "metadata": {},
   "source": [
    "Plot the tuning curves of the thalamic neurons"
   ]
  },
  {
   "cell_type": "code",
   "execution_count": null,
   "id": "b156e410",
   "metadata": {
    "scrolled": true
   },
   "outputs": [],
   "source": [
    "figure(figsize = (15, 10))\n",
    "for i, n in enumerate(np.where(shank==1)[0]):\n",
    "    subplot(5,5,i+1, projection = 'polar')\n",
    "    plot(tuning_curves[n])\n",
    "    xticks([])\n",
    "show()\n"
   ]
  },
  {
   "cell_type": "markdown",
   "id": "bed95438",
   "metadata": {},
   "source": [
    "Plot the tuning curves of the hippocampal neurons"
   ]
  },
  {
   "cell_type": "code",
   "execution_count": null,
   "id": "56ebc411",
   "metadata": {},
   "outputs": [],
   "source": [
    "figure(figsize = (15, 10))\n",
    "for i, n in enumerate(np.where(shank==2)[0]):\n",
    "    subplot(5,5,i+1, projection = 'polar')\n",
    "    plot(tuning_curves[n])\n",
    "    xticks([])\n",
    "show()\n"
   ]
  },
  {
   "cell_type": "markdown",
   "id": "728dd92a",
   "metadata": {},
   "source": [
    "Question : why are the tuning curves of the CA1 neurons directionaly tuned?"
   ]
  }
 ],
 "metadata": {
  "kernelspec": {
   "display_name": "Python 3",
   "language": "python",
   "name": "python3"
  },
  "language_info": {
   "codemirror_mode": {
    "name": "ipython",
    "version": 3
   },
   "file_extension": ".py",
   "mimetype": "text/x-python",
   "name": "python",
   "nbconvert_exporter": "python",
   "pygments_lexer": "ipython3",
   "version": "3.6.13"
  }
 },
 "nbformat": 4,
 "nbformat_minor": 5
}
